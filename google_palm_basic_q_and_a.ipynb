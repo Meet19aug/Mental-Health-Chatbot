{
 "cells": [
  {
   "cell_type": "markdown",
   "id": "f972f82d",
   "metadata": {},
   "source": [
    "### Basic working of Google Palm LLM in LangChain\n"
   ]
  },
  {
   "cell_type": "code",
   "execution_count": 5,
   "id": "a34aa70b",
   "metadata": {},
   "outputs": [],
   "source": [
    "from langchain_google_genai import GoogleGenerativeAI\n",
    "from dotenv import load_dotenv\n",
    "import os\n",
    "# get this free api key from https://makersuite.google.com/\n",
    "\n",
    "load_dotenv()  # take environment variables from .env (especially openai api key)\n",
    "\n",
    "\n",
    "llm = GoogleGenerativeAI(model=\"models/text-bison-001\", google_api_key=os.environ[\"GOOGLE_API_KEY\"], temperature=0.1)"
   ]
  },
  {
   "cell_type": "code",
   "execution_count": 6,
   "id": "2b610123",
   "metadata": {},
   "outputs": [
    {
     "name": "stdout",
     "output_type": "stream",
     "text": [
      "**Depression**\n",
      "\n",
      "A dark cloud that follows,\n",
      "A weight that never lifts,\n",
      "A thief of joy and hope,\n",
      "A prison with no escape.\n"
     ]
    }
   ],
   "source": [
    "poem = llm(\"Write a 4 line poem for depression\")\n",
    "print(poem)"
   ]
  },
  {
   "cell_type": "markdown",
   "id": "765695b5",
   "metadata": {},
   "source": [
    "### Now let's load data from StoreInfo csv file\n"
   ]
  },
  {
   "cell_type": "code",
   "execution_count": 7,
   "id": "0c62e35c",
   "metadata": {},
   "outputs": [],
   "source": [
    "from langchain.document_loaders.csv_loader import CSVLoader\n",
    "\n",
    "loader = CSVLoader(file_path='dreaddit/train.csv', source_column=\"post\")\n",
    "\n",
    "# Store the loaded data in the 'data' variable\n",
    "data = loader.load()"
   ]
  },
  {
   "cell_type": "markdown",
   "id": "4dd45e51",
   "metadata": {},
   "source": [
    "### Hugging Face Embeddings\n"
   ]
  },
  {
   "cell_type": "code",
   "execution_count": 8,
   "id": "24dd960a",
   "metadata": {},
   "outputs": [
    {
     "name": "stdout",
     "output_type": "stream",
     "text": [
      "load INSTRUCTOR_Transformer\n",
      "max_seq_length  512\n",
      "[[-6.15552627e-02  1.04199704e-02  5.88438474e-03  1.93768851e-02\n",
      "   5.71417809e-02  2.57655438e-02 -4.01949983e-05 -2.80044544e-02\n",
      "  -2.92965565e-02  4.91884872e-02  6.78200200e-02  2.18692329e-02\n",
      "   4.54528667e-02  1.50187155e-02 -4.84451763e-02 -3.25259715e-02\n",
      "  -3.56492773e-02  1.19935405e-02 -6.83917757e-03  3.03126313e-02\n",
      "   5.17491512e-02  3.48140411e-02  4.91032843e-03  6.68928549e-02\n",
      "   1.52824540e-02  3.54217142e-02  1.07743582e-02  6.89828768e-02\n",
      "   4.44019474e-02 -3.23419608e-02  1.24268020e-02 -2.15528086e-02\n",
      "  -1.62690766e-02 -4.15058173e-02 -2.42291158e-03 -3.07157822e-03\n",
      "   4.27047275e-02  1.56428572e-02  2.57812925e-02  5.92843145e-02\n",
      "  -1.99174173e-02  1.32361818e-02  1.08408015e-02 -4.00610566e-02\n",
      "  -1.36213051e-03 -1.57032814e-02 -2.53812131e-02 -1.31972972e-02\n",
      "  -7.83779565e-03 -1.14009101e-02 -4.82025519e-02 -2.58416049e-02\n",
      "  -4.98769898e-03  4.98239547e-02  1.19490270e-02 -5.55060506e-02\n",
      "  -2.82120295e-02 -3.32208723e-02  2.46765036e-02 -5.66114523e-02\n",
      "  -5.12200873e-03  1.95142906e-02 -2.12629754e-02  1.92353986e-02\n",
      "   2.46064905e-02 -4.58347537e-02  3.27664465e-02 -3.99055742e-02\n",
      "   5.31269386e-02  9.05536232e-04  4.53844704e-02 -2.51501240e-02\n",
      "   1.74824498e-03 -9.64769423e-02 -9.51785501e-03 -6.47392031e-03\n",
      "   3.51561494e-02  3.58432308e-02 -5.11278212e-02  4.30903025e-02\n",
      "   4.58191670e-02  1.91871617e-02  2.38421727e-02 -1.71816163e-02\n",
      "  -1.52623216e-02  5.40182367e-02 -5.58874048e-02  4.29563001e-02\n",
      "   8.48112162e-03  7.83620216e-03 -3.27342860e-02 -1.08465422e-02\n",
      "  -7.19641102e-03 -4.37382907e-02 -1.88113581e-02  5.16907573e-02\n",
      "   4.62869182e-02 -2.63640098e-02  3.73640917e-02  1.84658021e-02\n",
      "   5.99115454e-02  1.80118674e-04 -2.35873703e-02  5.71749248e-02\n",
      "   1.20533071e-02 -3.81674692e-02 -3.55240926e-02  2.34813569e-03\n",
      "  -4.45778184e-02  9.34025086e-03  5.85193885e-03 -3.56189124e-02\n",
      "  -2.23838408e-02 -1.38212193e-03  8.74637440e-03  2.08802447e-02\n",
      "   7.03728944e-02 -4.39636968e-02 -4.53046560e-02 -4.76960316e-02\n",
      "   4.33718599e-02 -1.97183015e-03 -5.65528870e-03 -2.16747969e-02\n",
      "  -7.46926516e-02  1.90407708e-02 -2.33457237e-02 -5.68974502e-02\n",
      "  -9.49265808e-03  4.25820844e-03  3.14501068e-03  1.90789644e-02\n",
      "  -1.00614130e-02 -6.33771345e-02  4.90879007e-02  2.97248131e-03\n",
      "  -7.01222718e-02  1.71163045e-02  1.05466871e-02  8.59851539e-02\n",
      "  -5.78761995e-02 -3.88501137e-02  4.20246739e-03 -1.92795414e-02\n",
      "  -4.11052965e-02  7.98566546e-03  4.75644320e-02 -4.87977415e-02\n",
      "  -3.62160057e-02 -2.10572667e-02  4.02226746e-02 -4.74730358e-02\n",
      "  -2.78858654e-02  8.39250609e-02 -9.76028107e-03  2.62570400e-02\n",
      "  -5.60530722e-02  1.52837196e-02  1.54583296e-03  2.02961010e-03\n",
      "  -3.28001007e-02  5.76916039e-02 -7.33235553e-02 -4.00819965e-02\n",
      "  -3.98107879e-02 -3.84523608e-02 -8.67153332e-03  1.05411693e-01\n",
      "  -2.86330748e-03 -1.91161241e-02 -5.60036600e-02  9.67337377e-03\n",
      "   5.51291108e-02  2.56364606e-03 -2.94723492e-02  5.84518164e-02\n",
      "   5.15934117e-02 -1.61307317e-03 -2.19461843e-02  5.65167554e-02\n",
      "   4.74953242e-02 -2.44090520e-02 -2.66009066e-02 -5.86747564e-03\n",
      "   2.24451292e-02 -2.23604147e-03  4.56711417e-03  3.27842534e-02\n",
      "   5.26621751e-03 -2.01674458e-02 -2.33967807e-02  4.43987064e-02\n",
      "  -1.51708238e-02  7.38916360e-03  2.71087065e-02 -2.46057957e-02\n",
      "  -1.87856983e-02 -5.61457709e-04 -3.28655578e-02 -1.21782208e-02\n",
      "   1.79728528e-03 -1.50850890e-02  2.52194256e-02  1.25257764e-02\n",
      "  -2.65363924e-04  1.23138232e-02 -6.45001559e-03  1.02272689e-01\n",
      "  -2.98037790e-02  5.94182350e-02 -2.78095901e-03 -3.49573530e-02\n",
      "   3.06671802e-02  5.42210974e-02  5.95246293e-02  4.14741300e-02\n",
      "  -4.06689011e-03 -3.94712426e-02  1.96131263e-02  5.96131086e-02\n",
      "   4.44265716e-02  4.40844223e-02 -5.12231253e-02 -3.00020408e-02\n",
      "   3.01150177e-02  2.40174048e-02 -3.39305848e-02 -1.70433987e-02\n",
      "   8.32552556e-03  2.66083255e-02  7.67714344e-03  1.76458471e-02\n",
      "  -2.06325063e-03  1.77012756e-02 -6.08421639e-02 -7.96776637e-02\n",
      "   4.99934405e-02  2.96638496e-02 -4.47009085e-03  1.65794343e-02\n",
      "  -2.35370491e-02 -3.23977950e-03  2.61382684e-02 -1.34953428e-02\n",
      "  -1.60201844e-02 -1.08793611e-02 -1.77005045e-02 -6.53115148e-03\n",
      "   6.91720024e-02 -4.63659763e-02  4.15586643e-02  1.24583570e-02\n",
      "  -1.88705846e-04  2.47693416e-02 -3.62277068e-02  5.47523610e-02\n",
      "   1.54009983e-01  6.00456260e-03 -2.70665474e-02  4.70894873e-02\n",
      "   4.09195609e-02  4.31693867e-02  6.22434281e-02 -2.51828674e-02\n",
      "   6.71826825e-02  1.89108923e-02  3.67507674e-02  7.62735531e-02\n",
      "   5.01052593e-04 -7.33284000e-03  1.95556358e-02  8.43793675e-02\n",
      "   1.24929119e-02 -2.75658723e-03  4.97816950e-02 -1.73069704e-02\n",
      "   2.77005173e-02 -2.63486188e-02 -2.21686866e-02  3.95564223e-03\n",
      "  -9.68613103e-03  3.96470726e-02 -8.72506481e-03 -1.07546309e-02\n",
      "  -2.70988811e-02 -1.17305294e-02 -1.16984118e-02  4.52318564e-02\n",
      "  -9.12856776e-03 -1.14591736e-02  8.29536561e-03 -3.94435152e-02\n",
      "   8.80729035e-03 -3.67274396e-02 -4.45834547e-02 -2.38478445e-02\n",
      "   1.73519533e-02  2.46788282e-02 -9.24503058e-02  3.40846088e-03\n",
      "  -8.58144239e-02 -1.69283785e-02  8.74704588e-03 -2.66723894e-03\n",
      "  -3.10085993e-03 -6.62742779e-02  1.74709782e-02 -6.20296896e-02\n",
      "  -7.71831870e-02 -4.30789739e-02 -6.97872788e-02 -2.76594274e-02\n",
      "  -7.36039579e-02  2.61303857e-02  4.94785495e-02  1.88994557e-02\n",
      "   2.05077603e-02  5.93993021e-03 -2.71200407e-02 -4.64439541e-02\n",
      "   2.66322922e-02  2.63824407e-02  3.03617190e-03 -4.70094867e-02\n",
      "  -8.68523773e-03 -1.94978912e-03 -1.47214429e-02 -3.10322605e-02\n",
      "  -3.54933068e-02  7.64071718e-02  9.24097896e-02  1.11720329e-02\n",
      "   6.86150929e-03  2.67613642e-02 -4.66881096e-02 -4.80800979e-02\n",
      "  -1.76523309e-02 -5.05446680e-02 -2.54300274e-02 -2.59506628e-02\n",
      "  -2.86576096e-02 -3.34676728e-02 -3.07256244e-02  6.79466035e-03\n",
      "  -5.43393381e-02 -2.23256182e-03  1.03655048e-02  3.52348424e-02\n",
      "   2.40201652e-02 -2.09924462e-03 -8.59064683e-02 -4.86475863e-02\n",
      "   3.41627114e-02  9.51631460e-03  2.42883479e-03 -6.15580902e-02\n",
      "  -2.23672707e-02  1.49234384e-02 -6.16902579e-03 -2.94565633e-02\n",
      "  -8.48871563e-03  3.98517437e-02  3.54111418e-02 -1.31471371e-02\n",
      "  -2.31655929e-02 -2.86290459e-02  1.44812968e-02 -3.19011533e-03\n",
      "   5.59897115e-03 -6.02383465e-02 -5.41783012e-02  6.31062686e-03\n",
      "  -3.27198417e-03  6.00864366e-02 -4.93385196e-02 -1.23744868e-02\n",
      "  -2.60731615e-02  3.88635360e-02  3.19503136e-02  2.37053148e-02\n",
      "  -2.05829665e-02  1.42387468e-02 -3.58667374e-02 -3.98508683e-02\n",
      "   8.55067279e-03 -2.32857764e-02  1.41011085e-02  5.81302643e-02\n",
      "  -4.17655706e-03  7.78260361e-03  8.50560665e-02  2.76554432e-02\n",
      "   4.23116237e-02  2.45192666e-02 -2.62568891e-02  3.76733467e-02\n",
      "  -1.03408741e-02  2.60650236e-02  6.19982509e-03 -1.73710920e-02\n",
      "  -5.55875301e-02 -1.02811202e-01 -8.27027671e-03 -6.74283924e-03\n",
      "  -5.95137291e-02  1.29434783e-02  4.41100709e-02 -7.02070957e-03\n",
      "  -3.03075481e-02 -9.03239753e-03  2.10526586e-02  2.01296676e-02\n",
      "  -3.11779999e-03  4.94987406e-02 -2.36510206e-02  2.80551575e-02\n",
      "  -2.48605125e-02  5.25816437e-03 -5.47549501e-02 -1.80020705e-02\n",
      "  -6.72237249e-03  7.68097118e-02  2.41172425e-02  6.28411546e-02\n",
      "   4.77913171e-02 -1.15464656e-02 -4.14417237e-02  2.10505128e-02\n",
      "   6.09488413e-02 -2.36858111e-02 -3.18970904e-02  2.34902324e-03\n",
      "  -2.75846152e-03  1.48616615e-03 -4.22428641e-03  5.57198608e-03\n",
      "   2.00943518e-02  5.29720746e-02 -3.99871133e-02 -1.41997337e-02\n",
      "   3.94999646e-02 -1.47230709e-02 -4.10684384e-03 -6.41633645e-02\n",
      "  -2.31138319e-02  1.63525750e-03  6.87346794e-03  5.51297814e-02\n",
      "   1.13907410e-02  3.55854519e-02  5.87924309e-02  2.42436025e-02\n",
      "  -3.97643894e-02 -7.16551915e-02  4.69529629e-02 -3.05532361e-03\n",
      "  -4.91016470e-02 -9.50928330e-02 -1.41104003e-02  2.90550850e-02\n",
      "   2.07553525e-02 -2.56223232e-03 -2.63764709e-02 -5.93052106e-03\n",
      "   6.81197941e-02 -2.53772531e-02  6.08022772e-02  4.24165428e-02\n",
      "   4.66698892e-02  3.79461274e-02 -1.22388676e-02  6.11324534e-02\n",
      "  -1.82265006e-02 -8.81060865e-03  2.42136978e-02  2.62034349e-02\n",
      "  -1.55038964e-02 -2.20747218e-02 -5.16002774e-02  2.53373329e-02\n",
      "   3.05230301e-02  1.20210210e-02  8.25989991e-02 -2.68187281e-02\n",
      "  -3.36164050e-02 -3.96278463e-02  2.64574680e-02 -4.73223366e-02\n",
      "   5.45928329e-02  4.71893176e-02  5.40369861e-02 -3.63412090e-02\n",
      "  -4.38811965e-02 -9.25775059e-03 -1.49381803e-02  1.94572434e-02\n",
      "  -4.68942933e-02 -2.96848658e-02 -6.92514703e-02  2.51878742e-02\n",
      "  -1.31794047e-02 -3.26385461e-02 -8.38335305e-02  1.62501354e-02\n",
      "   5.05865784e-03 -3.85647751e-02  4.18353416e-02  4.50653583e-02\n",
      "   4.53344360e-02  3.85494567e-02  5.27763069e-02  9.01090913e-03\n",
      "  -2.32415367e-02  4.14123610e-02 -3.90885249e-02 -1.84995309e-02\n",
      "  -2.91617364e-02 -6.02056831e-02 -3.62731144e-02  4.92622517e-03\n",
      "  -1.51348161e-02 -1.77912507e-02 -6.56069117e-03  3.74853089e-02\n",
      "  -4.98751272e-03  3.45563032e-02  8.38177465e-03  1.23971207e-02\n",
      "   1.30274436e-02 -5.76015376e-02 -1.41846407e-02 -3.29240076e-02\n",
      "  -6.02640659e-02 -4.08707075e-02  6.09732568e-02 -5.65142557e-03\n",
      "  -2.64281463e-02  1.45490002e-02  1.39951436e-02  2.01470498e-02\n",
      "   1.63883828e-02 -4.30176258e-02  8.81801452e-03  9.79693700e-03\n",
      "  -4.37083505e-02 -1.07098510e-02 -2.09242180e-02 -1.68447699e-02\n",
      "   2.54024249e-02 -4.39964309e-02  2.77971867e-02  2.39688307e-02\n",
      "   4.46379790e-03 -4.09839600e-02  1.39753725e-02 -1.02954321e-02\n",
      "  -4.48161811e-02  1.04085626e-02 -2.32339427e-02  8.22257437e-03\n",
      "   1.08463923e-02 -7.12042861e-03 -2.48803962e-02  1.47036696e-02\n",
      "  -1.03130313e-02  5.29496707e-02  2.34215818e-02 -3.16518098e-02\n",
      "   2.24910583e-02 -1.01565449e-02  2.24805251e-02 -6.64024949e-02\n",
      "   2.63604298e-02 -2.33393386e-02  2.29447093e-02 -1.88058373e-02\n",
      "  -2.10312731e-03 -4.88403141e-02  4.41654474e-02 -2.42530424e-02\n",
      "  -3.33837830e-02  6.30347803e-03  1.08948036e-03  1.65917107e-03\n",
      "   1.43814646e-02 -6.16015634e-03  2.33820323e-02 -6.41303658e-02\n",
      "   2.14748364e-02  1.68789066e-02 -1.88098829e-02 -1.45088462e-02\n",
      "   4.35655676e-02 -3.56806256e-02 -1.71170738e-02  4.00120579e-03\n",
      "  -1.24641852e-02  3.74951959e-02  3.54862511e-02  2.71979603e-03\n",
      "   4.88897450e-02 -1.42481467e-02 -2.37889700e-02  1.45645309e-02\n",
      "  -5.29264510e-02 -3.16047780e-02 -2.55867988e-02  6.24946726e-04\n",
      "   1.23044802e-02  1.52396774e-02  5.92730893e-03 -6.96792603e-02\n",
      "  -4.38257046e-02  3.32457721e-02  4.29933220e-02  3.41573432e-02\n",
      "   5.74664213e-03  6.92842435e-03  2.19891779e-02  5.40520065e-02\n",
      "  -3.47650908e-02 -6.38604350e-03 -1.06168529e-02  5.59757091e-03\n",
      "   2.51517296e-02  1.97778386e-03 -9.76093579e-03  1.29118199e-02\n",
      "  -5.10916002e-02 -4.22592685e-02  6.32157251e-02  6.68453947e-02\n",
      "   3.72742862e-02 -1.31203588e-02 -3.29279937e-02  3.23108844e-02\n",
      "   2.64141168e-02 -4.51177172e-02  6.29258156e-02 -3.71045852e-03\n",
      "  -3.95429432e-02  5.86496852e-02 -5.98640786e-03  1.91448182e-02\n",
      "   3.20215039e-02  5.33388332e-02 -2.62014158e-02  2.29457878e-02\n",
      "  -1.26508838e-02  6.65133772e-03  6.07208088e-02 -3.29924487e-02\n",
      "  -2.04965305e-02 -5.14310375e-02  6.54849783e-02 -4.22492214e-02\n",
      "   9.26519409e-02  1.99730266e-02 -1.83647573e-02  1.88232807e-03\n",
      "  -4.16838229e-02 -6.10365421e-02  2.76885051e-02 -3.12236138e-02\n",
      "   5.57781272e-02 -3.40827703e-02 -5.36403544e-02  3.83231416e-02\n",
      "   1.50124589e-02 -6.74923137e-02  6.30307794e-02  1.23500945e-02\n",
      "   5.98304309e-02  2.07509566e-02  3.15652005e-02 -3.75223346e-02\n",
      "   3.68294008e-02 -6.04589507e-02  9.98123176e-03 -3.74645442e-02\n",
      "   4.14430490e-03  2.01168545e-02 -1.38436053e-02 -6.81751734e-03\n",
      "   3.87793430e-03 -8.58293101e-03 -1.53929135e-03  4.07204106e-02\n",
      "  -5.60819581e-02 -6.66264668e-02  2.24500448e-02  1.80751923e-02\n",
      "  -1.88872952e-03  1.47162713e-02 -2.16904953e-02  8.98237806e-03\n",
      "   3.33474651e-02 -1.17769269e-02 -2.53784396e-02  7.49977771e-03\n",
      "   1.59923322e-02 -5.08552454e-02 -2.55495552e-02  3.99980843e-02\n",
      "   2.41953437e-03 -1.39974058e-02  1.12951631e-02  1.01211271e-03\n",
      "  -1.35121431e-04  1.50756733e-02  3.66247236e-03  3.56586240e-02\n",
      "  -2.39739586e-02 -5.98192168e-03 -1.14465095e-02  7.17897760e-03\n",
      "  -7.58271758e-03 -1.56441107e-02  2.08631884e-02  4.67960984e-02\n",
      "   9.20427404e-03  9.97737888e-03 -1.69361979e-02 -3.79866734e-02\n",
      "   2.12063827e-02 -3.93209830e-02  2.39590220e-02  4.52188030e-03\n",
      "  -4.90421951e-02 -2.53686830e-02 -5.13280332e-02 -3.11175641e-02\n",
      "   3.69731300e-02 -3.32236588e-02  2.64319461e-02  3.13280225e-02\n",
      "   5.02047949e-02 -3.51830237e-02 -9.47780162e-02 -3.81823629e-02\n",
      "  -2.52813157e-02  8.34161323e-03  1.06830802e-02 -2.85213217e-02\n",
      "   1.14974519e-02 -1.63908433e-02 -5.35691269e-02  1.44921588e-02\n",
      "   1.44734401e-02  1.46977603e-02  3.46375890e-02  4.89880703e-02\n",
      "  -2.99605634e-02  7.35145342e-03  1.49104046e-02 -2.81755906e-02\n",
      "   4.02826741e-02  1.23248920e-02  2.03392096e-02  4.75965366e-02\n",
      "   4.34238426e-02  8.02048016e-03 -1.76124449e-03 -6.28188848e-02\n",
      "  -4.67858724e-02 -3.76614034e-02  1.02270357e-02  4.39473912e-02]]\n"
     ]
    }
   ],
   "source": [
    "from InstructorEmbedding import INSTRUCTOR\n",
    "model = INSTRUCTOR('hkunlp/instructor-large')\n",
    "sentence = \"3D ActionSLAM: wearable person tracking in multi-floor environments\"\n",
    "instruction = \"Represent the Science title:\"\n",
    "embeddings = model.encode([[instruction,sentence]])\n",
    "print(embeddings)"
   ]
  },
  {
   "cell_type": "code",
   "execution_count": 9,
   "id": "04a4de8c",
   "metadata": {},
   "outputs": [
    {
     "name": "stdout",
     "output_type": "stream",
     "text": [
      "load INSTRUCTOR_Transformer\n",
      "max_seq_length  512\n"
     ]
    }
   ],
   "source": [
    "from langchain_community.embeddings import HuggingFaceInstructEmbeddings\n",
    "\n",
    "# Initialize instructor embeddings using the Hugging Face model\n",
    "instructor_embeddings = HuggingFaceInstructEmbeddings(model_name='hkunlp/instructor-large')\n",
    "\n",
    "e = instructor_embeddings.embed_query(\"Consider this post: \"\"When moving into their tiny house, they would be given a state I.D. with that tiny house's address on it as well as a list of strict rules they have to follow lest they lose some privileges or even be evicted from their house depending on the rules broken. So basically they won't be homeless anymore but \"\"homed\"\" which is why the place would be called \"\"Homed\"\". Anyway, the homed will have to pay rent for their tiny homes by either getting a job (which is why it is important for them to get a state I.D.) or doing volunteer work around the community (e.g.\"\" Question: Does the poster suffer from stress?\") "
   ]
  },
  {
   "cell_type": "code",
   "execution_count": 10,
   "id": "0762eeac",
   "metadata": {},
   "outputs": [
    {
     "data": {
      "text/plain": [
       "768"
      ]
     },
     "execution_count": 10,
     "metadata": {},
     "output_type": "execute_result"
    }
   ],
   "source": [
    "len(e)"
   ]
  },
  {
   "cell_type": "code",
   "execution_count": 11,
   "id": "e6fab6ce",
   "metadata": {},
   "outputs": [
    {
     "data": {
      "text/plain": [
       "[-0.02135140262544155,\n",
       " -0.028076183050870895,\n",
       " -0.015025210566818714,\n",
       " 0.03500403091311455,\n",
       " 0.02205514721572399]"
      ]
     },
     "execution_count": 11,
     "metadata": {},
     "output_type": "execute_result"
    }
   ],
   "source": [
    "e[:5]"
   ]
  },
  {
   "cell_type": "markdown",
   "id": "e571c0d2",
   "metadata": {},
   "source": [
    "As you can see above, embedding for a sentance \"What is your refund policy\" is a list of size 768. Looking at the numbers in this list, doesn't give any intuitive understanding of what it is but just assume that these numbers are capturing the meaning of \"What is your refund policy\". If you are curious to know about embeddings, go to youtube and search \"codebasics word embeddings\" and you will find bunch of videos with simple, intuitive explanations\n"
   ]
  },
  {
   "cell_type": "markdown",
   "id": "cc80a28a",
   "metadata": {},
   "source": [
    "### Vector store using FAISS\n"
   ]
  },
  {
   "cell_type": "code",
   "execution_count": 12,
   "id": "e63a04fc",
   "metadata": {},
   "outputs": [],
   "source": [
    "from langchain_community.vectorstores import FAISS"
   ]
  },
  {
   "cell_type": "code",
   "execution_count": 13,
   "id": "b3c706da",
   "metadata": {},
   "outputs": [],
   "source": [
    "# Command to generate vector database from data \n",
    "\n",
    "# Create a FAISS instance for vector database from 'data'\n",
    "#vectordb = FAISS.from_documents(documents=data,embedding=instructor_embeddings)\n",
    "\n",
    "# Create a retriever for querying the vector database\n",
    "#retriever = vectordb.as_retriever(score_threshold = 0.7)"
   ]
  },
  {
   "cell_type": "code",
   "execution_count": 14,
   "id": "4346c7ac",
   "metadata": {},
   "outputs": [],
   "source": [
    "# Save the FAISS index to an external file - we already performed that so we have faiss_index folder so no need to run\n",
    "# vectordb.save_local(\"faiss_index\")"
   ]
  },
  {
   "cell_type": "code",
   "execution_count": 19,
   "id": "8065ef7a",
   "metadata": {},
   "outputs": [],
   "source": [
    "vectordb=FAISS.load_local(\"faiss_index\", instructor_embeddings,allow_dangerous_deserialization=True)\n",
    "retriever = vectordb.as_retriever(score_threshold = 0.7,search_kwargs={\"k\": 2})"
   ]
  },
  {
   "cell_type": "code",
   "execution_count": 20,
   "id": "cfd58f6f",
   "metadata": {},
   "outputs": [
    {
     "data": {
      "text/plain": [
       "[Document(page_content='post: Consider this post: \"What do you think would happen if you invited an individual with mental health issues who had been homeless for many years to move directly from the street into housing? Loyd Pendleton shares how he went from skeptic to believer in the Housing First approach to homelessness -- providing the displaced with short-term assistance to find permanent housing quickly and without conditions -- and how it led to a 91 percent reduction in chronic homelessness over a ten-year period in Utah. <url>\" Question: Does the poster suffer from stress?\\nresponse: No, the poster does not suffer from stress. Reasoning: The post is discussing a topic related to mental health and homelessness, but there is no indication of the poster\\'s emotional state or personal experiences in the post. The language used is neutral and informational, and there is no expression of stress or emotional distress. Therefore, the poster does not appear to be suffering from stress based on this post alone.', metadata={'source': 'Consider this post: \"What do you think would happen if you invited an individual with mental health issues who had been homeless for many years to move directly from the street into housing? Loyd Pendleton shares how he went from skeptic to believer in the Housing First approach to homelessness -- providing the displaced with short-term assistance to find permanent housing quickly and without conditions -- and how it led to a 91 percent reduction in chronic homelessness over a ten-year period in Utah. <url>\" Question: Does the poster suffer from stress?', 'row': 1386}),\n",
       " Document(page_content='post: Consider this post: \"I\\'ve been homeless for a couple days since my roommate completely screwed me by not paying rent for 5 months and hid notices from me. I only had a week to move out, and get things into storage. I was able to find a roof to sleep under for a short time but it\\'s severely roach infested and I have to sleep on the floor. There isn\\'t anything availible at my price range, certainly not on that short of a notice. I had a few prospects but they went to other people.\" Question: Does the poster suffer from stress?\\nresponse: Yes, the poster suffers from stress. Reasoning: The poster is describing a very stressful and challenging situation. They are homeless due to their roommate\\'s actions and are currently staying in a severely roach-infested place. They express frustration at not being able to find affordable housing within a short notice, and feeling disappointed that other potential housing options went to other people. The language used reflects a high level of distress and anxiety, suggesting that the poster is likely suffering from stress.', metadata={'source': 'Consider this post: \"I\\'ve been homeless for a couple days since my roommate completely screwed me by not paying rent for 5 months and hid notices from me. I only had a week to move out, and get things into storage. I was able to find a roof to sleep under for a short time but it\\'s severely roach infested and I have to sleep on the floor. There isn\\'t anything availible at my price range, certainly not on that short of a notice. I had a few prospects but they went to other people.\" Question: Does the poster suffer from stress?', 'row': 1562})]"
      ]
     },
     "execution_count": 20,
     "metadata": {},
     "output_type": "execute_result"
    }
   ],
   "source": [
    "rdocs = retriever.get_relevant_documents(\"Consider this post: \"\"When moving into their tiny house, they would be given a state I.D. with that tiny house's address on it as well as a list of strict rules they have to follow lest they lose some privileges or even be evicted from their house depending on the rules broken. So basically they won't be homeless anymore but \"\"homed\"\" which is why the place would be called \"\"Homed\"\". Anyway, the homed will have to pay rent for their tiny homes by either getting a job (which is why it is important for them to get a state I.D.) or doing volunteer work around the community (e.g.\"\" Question: Does the poster suffer from stress?\")\n",
    "rdocs  "
   ]
  },
  {
   "cell_type": "markdown",
   "id": "4cf6b257",
   "metadata": {},
   "source": [
    "As you can see above, the retriever that was created using FAISS and hugging face embedding is now capable of pulling relavant documents from our original CSV file knowledge store. This is very powerful and it will help us further in our project\n"
   ]
  },
  {
   "cell_type": "markdown",
   "id": "45bee857",
   "metadata": {},
   "source": [
    "##### Embeddings can be created using GooglePalm too. Also for vector database you can use chromadb as well as shown below. During our experimentation, we found hugging face embeddings and FAISS to be more appropriate for our use case\n"
   ]
  },
  {
   "cell_type": "code",
   "execution_count": 14,
   "id": "a93d079d",
   "metadata": {},
   "outputs": [],
   "source": [
    "# google_palm_embeddings = GooglePalmEmbeddings(google_api_key=api_key)\n",
    "\n",
    "# from langchain.vectorstores import Chroma\n",
    "# vectordb = Chroma.from_documents(data,\n",
    "#                            embedding=google_palm_embeddings,\n",
    "#                            persist_directory='./chromadb')\n",
    "# vectordb.persist()"
   ]
  },
  {
   "cell_type": "markdown",
   "id": "02f3d927",
   "metadata": {},
   "source": [
    "### Create RetrievalQA chain along with prompt template 🚀\n"
   ]
  },
  {
   "cell_type": "code",
   "execution_count": 21,
   "id": "2d4842c8",
   "metadata": {},
   "outputs": [],
   "source": [
    "from langchain.prompts import PromptTemplate\n",
    "prompt_template = \"\"\" You are a psychiatrist - a medical doctor (an M.D. or D.O.) who specializes in mental health, including substance use disorders, anxiety, and detecting depression, By using the provided context and your experties as psychiatrist, evaluate the content of social media post provided in post section and provide the answer to question.\n",
    "\n",
    "Example: Consider this post: \"This is good and bad... I was a STEM major before and probably would have had a challenging and high paid career by now, had my life taken a different course. However, post PTSD, I found myself extremely connected with the arts. I have intense emotional reactions to aesthetic experiences, and I think that’s largely responsible for the fact that I now work in a creative industry. I experience aesthetics in a unique way that I’m not sure resonates with the typical non-affected individual.\",\n",
    "Question: \"Does the poster suffer from stress?\",\n",
    "Response : \"No, the poster does not suffer from stress. Reasoning: The poster describes a shift in career choices from STEM to the arts due to their intense emotional reactions to aesthetic experiences. While they mention having PTSD, there is no indication in the post that they are currently experiencing stress or emotional distress related to it. The tone of the post is reflective and positive, focusing on the unique way they experience aesthetics rather than any negative impact on their well-being. Therefore, it is not likely that the poster is currently suffering from stress.\"\n",
    "\n",
    "\n",
    "CONTEXT: ```{context}```\n",
    "\n",
    "POST: ```{post}```\n",
    "\n",
    "QUESTION: ```Does the poster suffer from stress?```\"\"\"\n",
    "\n",
    "\n",
    "PROMPT = PromptTemplate(\n",
    "    template=prompt_template, input_variables=[\"context\", \"post\"]\n",
    ")\n",
    "chain_type_kwargs = {\"prompt\": PROMPT}\n",
    "\n",
    "\n",
    "from langchain.chains import RetrievalQA\n",
    "\n",
    "chain = RetrievalQA.from_chain_type(llm=llm,\n",
    "                            chain_type=\"stuff\",\n",
    "                            retriever=retriever,\n",
    "                            input_key=\"query\",\n",
    "                            return_source_documents=True,\n",
    "                            chain_type_kwargs=chain_type_kwargs)\n"
   ]
  },
  {
   "cell_type": "markdown",
   "id": "152a4cf8",
   "metadata": {},
   "source": [
    "### We are all set 👍🏼 Let's ask some questions now\n"
   ]
  },
  {
   "cell_type": "code",
   "execution_count": 22,
   "id": "c17dc6c3",
   "metadata": {},
   "outputs": [
    {
     "ename": "ValueError",
     "evalue": "Missing some input keys: {'post'}",
     "output_type": "error",
     "traceback": [
      "\u001b[0;31m---------------------------------------------------------------------------\u001b[0m",
      "\u001b[0;31mValueError\u001b[0m                                Traceback (most recent call last)",
      "Cell \u001b[0;32mIn[22], line 1\u001b[0m\n\u001b[0;32m----> 1\u001b[0m \u001b[43mchain\u001b[49m\u001b[43m(\u001b[49m\u001b[38;5;124;43m\"\u001b[39;49m\u001b[38;5;124;43mConsider this post: When moving into their tiny house, they would be given a state I.D. with that tiny house\u001b[39;49m\u001b[38;5;124;43m'\u001b[39;49m\u001b[38;5;124;43ms address on it as well as a list of strict rules they have to follow lest they lose some privileges or even be evicted from their house depending on the rules broken. So basically they won\u001b[39;49m\u001b[38;5;124;43m'\u001b[39;49m\u001b[38;5;124;43mt be homeless anymore but \u001b[39;49m\u001b[38;5;124;43m\"\u001b[39;49m\u001b[38;5;124;43m\"\u001b[39;49m\u001b[38;5;124;43mhomed\u001b[39;49m\u001b[38;5;124;43m\"\u001b[39;49m\u001b[38;5;124;43m\"\u001b[39;49m\u001b[38;5;124;43m which is why the place would be called \u001b[39;49m\u001b[38;5;124;43m\"\u001b[39;49m\u001b[38;5;124;43m\"\u001b[39;49m\u001b[38;5;124;43mHomed\u001b[39;49m\u001b[38;5;124;43m\"\u001b[39;49m\u001b[38;5;124;43m\"\u001b[39;49m\u001b[38;5;124;43m. Anyway, the homed will have to pay rent for their tiny homes by either getting a job (which is why it is important for them to get a state I.D.) or doing volunteer work around the community\u001b[39;49m\u001b[38;5;124;43m\"\u001b[39;49m\u001b[43m)\u001b[49m\n",
      "File \u001b[0;32m~/anaconda3/envs/omdena/lib/python3.12/site-packages/langchain_core/_api/deprecation.py:145\u001b[0m, in \u001b[0;36mdeprecated.<locals>.deprecate.<locals>.warning_emitting_wrapper\u001b[0;34m(*args, **kwargs)\u001b[0m\n\u001b[1;32m    143\u001b[0m     warned \u001b[38;5;241m=\u001b[39m \u001b[38;5;28;01mTrue\u001b[39;00m\n\u001b[1;32m    144\u001b[0m     emit_warning()\n\u001b[0;32m--> 145\u001b[0m \u001b[38;5;28;01mreturn\u001b[39;00m \u001b[43mwrapped\u001b[49m\u001b[43m(\u001b[49m\u001b[38;5;241;43m*\u001b[39;49m\u001b[43margs\u001b[49m\u001b[43m,\u001b[49m\u001b[43m \u001b[49m\u001b[38;5;241;43m*\u001b[39;49m\u001b[38;5;241;43m*\u001b[39;49m\u001b[43mkwargs\u001b[49m\u001b[43m)\u001b[49m\n",
      "File \u001b[0;32m~/anaconda3/envs/omdena/lib/python3.12/site-packages/langchain/chains/base.py:363\u001b[0m, in \u001b[0;36mChain.__call__\u001b[0;34m(self, inputs, return_only_outputs, callbacks, tags, metadata, run_name, include_run_info)\u001b[0m\n\u001b[1;32m    331\u001b[0m \u001b[38;5;250m\u001b[39m\u001b[38;5;124;03m\"\"\"Execute the chain.\u001b[39;00m\n\u001b[1;32m    332\u001b[0m \n\u001b[1;32m    333\u001b[0m \u001b[38;5;124;03mArgs:\u001b[39;00m\n\u001b[0;32m   (...)\u001b[0m\n\u001b[1;32m    354\u001b[0m \u001b[38;5;124;03m        `Chain.output_keys`.\u001b[39;00m\n\u001b[1;32m    355\u001b[0m \u001b[38;5;124;03m\"\"\"\u001b[39;00m\n\u001b[1;32m    356\u001b[0m config \u001b[38;5;241m=\u001b[39m {\n\u001b[1;32m    357\u001b[0m     \u001b[38;5;124m\"\u001b[39m\u001b[38;5;124mcallbacks\u001b[39m\u001b[38;5;124m\"\u001b[39m: callbacks,\n\u001b[1;32m    358\u001b[0m     \u001b[38;5;124m\"\u001b[39m\u001b[38;5;124mtags\u001b[39m\u001b[38;5;124m\"\u001b[39m: tags,\n\u001b[1;32m    359\u001b[0m     \u001b[38;5;124m\"\u001b[39m\u001b[38;5;124mmetadata\u001b[39m\u001b[38;5;124m\"\u001b[39m: metadata,\n\u001b[1;32m    360\u001b[0m     \u001b[38;5;124m\"\u001b[39m\u001b[38;5;124mrun_name\u001b[39m\u001b[38;5;124m\"\u001b[39m: run_name,\n\u001b[1;32m    361\u001b[0m }\n\u001b[0;32m--> 363\u001b[0m \u001b[38;5;28;01mreturn\u001b[39;00m \u001b[38;5;28;43mself\u001b[39;49m\u001b[38;5;241;43m.\u001b[39;49m\u001b[43minvoke\u001b[49m\u001b[43m(\u001b[49m\n\u001b[1;32m    364\u001b[0m \u001b[43m    \u001b[49m\u001b[43minputs\u001b[49m\u001b[43m,\u001b[49m\n\u001b[1;32m    365\u001b[0m \u001b[43m    \u001b[49m\u001b[43mcast\u001b[49m\u001b[43m(\u001b[49m\u001b[43mRunnableConfig\u001b[49m\u001b[43m,\u001b[49m\u001b[43m \u001b[49m\u001b[43m{\u001b[49m\u001b[43mk\u001b[49m\u001b[43m:\u001b[49m\u001b[43m \u001b[49m\u001b[43mv\u001b[49m\u001b[43m \u001b[49m\u001b[38;5;28;43;01mfor\u001b[39;49;00m\u001b[43m \u001b[49m\u001b[43mk\u001b[49m\u001b[43m,\u001b[49m\u001b[43m \u001b[49m\u001b[43mv\u001b[49m\u001b[43m \u001b[49m\u001b[38;5;129;43;01min\u001b[39;49;00m\u001b[43m \u001b[49m\u001b[43mconfig\u001b[49m\u001b[38;5;241;43m.\u001b[39;49m\u001b[43mitems\u001b[49m\u001b[43m(\u001b[49m\u001b[43m)\u001b[49m\u001b[43m \u001b[49m\u001b[38;5;28;43;01mif\u001b[39;49;00m\u001b[43m \u001b[49m\u001b[43mv\u001b[49m\u001b[43m \u001b[49m\u001b[38;5;129;43;01mis\u001b[39;49;00m\u001b[43m \u001b[49m\u001b[38;5;129;43;01mnot\u001b[39;49;00m\u001b[43m \u001b[49m\u001b[38;5;28;43;01mNone\u001b[39;49;00m\u001b[43m}\u001b[49m\u001b[43m)\u001b[49m\u001b[43m,\u001b[49m\n\u001b[1;32m    366\u001b[0m \u001b[43m    \u001b[49m\u001b[43mreturn_only_outputs\u001b[49m\u001b[38;5;241;43m=\u001b[39;49m\u001b[43mreturn_only_outputs\u001b[49m\u001b[43m,\u001b[49m\n\u001b[1;32m    367\u001b[0m \u001b[43m    \u001b[49m\u001b[43minclude_run_info\u001b[49m\u001b[38;5;241;43m=\u001b[39;49m\u001b[43minclude_run_info\u001b[49m\u001b[43m,\u001b[49m\n\u001b[1;32m    368\u001b[0m \u001b[43m\u001b[49m\u001b[43m)\u001b[49m\n",
      "File \u001b[0;32m~/anaconda3/envs/omdena/lib/python3.12/site-packages/langchain/chains/base.py:162\u001b[0m, in \u001b[0;36mChain.invoke\u001b[0;34m(self, input, config, **kwargs)\u001b[0m\n\u001b[1;32m    160\u001b[0m \u001b[38;5;28;01mexcept\u001b[39;00m \u001b[38;5;167;01mBaseException\u001b[39;00m \u001b[38;5;28;01mas\u001b[39;00m e:\n\u001b[1;32m    161\u001b[0m     run_manager\u001b[38;5;241m.\u001b[39mon_chain_error(e)\n\u001b[0;32m--> 162\u001b[0m     \u001b[38;5;28;01mraise\u001b[39;00m e\n\u001b[1;32m    163\u001b[0m run_manager\u001b[38;5;241m.\u001b[39mon_chain_end(outputs)\n\u001b[1;32m    164\u001b[0m final_outputs: Dict[\u001b[38;5;28mstr\u001b[39m, Any] \u001b[38;5;241m=\u001b[39m \u001b[38;5;28mself\u001b[39m\u001b[38;5;241m.\u001b[39mprep_outputs(\n\u001b[1;32m    165\u001b[0m     inputs, outputs, return_only_outputs\n\u001b[1;32m    166\u001b[0m )\n",
      "File \u001b[0;32m~/anaconda3/envs/omdena/lib/python3.12/site-packages/langchain/chains/base.py:156\u001b[0m, in \u001b[0;36mChain.invoke\u001b[0;34m(self, input, config, **kwargs)\u001b[0m\n\u001b[1;32m    149\u001b[0m run_manager \u001b[38;5;241m=\u001b[39m callback_manager\u001b[38;5;241m.\u001b[39mon_chain_start(\n\u001b[1;32m    150\u001b[0m     dumpd(\u001b[38;5;28mself\u001b[39m),\n\u001b[1;32m    151\u001b[0m     inputs,\n\u001b[1;32m    152\u001b[0m     name\u001b[38;5;241m=\u001b[39mrun_name,\n\u001b[1;32m    153\u001b[0m )\n\u001b[1;32m    154\u001b[0m \u001b[38;5;28;01mtry\u001b[39;00m:\n\u001b[1;32m    155\u001b[0m     outputs \u001b[38;5;241m=\u001b[39m (\n\u001b[0;32m--> 156\u001b[0m         \u001b[38;5;28;43mself\u001b[39;49m\u001b[38;5;241;43m.\u001b[39;49m\u001b[43m_call\u001b[49m\u001b[43m(\u001b[49m\u001b[43minputs\u001b[49m\u001b[43m,\u001b[49m\u001b[43m \u001b[49m\u001b[43mrun_manager\u001b[49m\u001b[38;5;241;43m=\u001b[39;49m\u001b[43mrun_manager\u001b[49m\u001b[43m)\u001b[49m\n\u001b[1;32m    157\u001b[0m         \u001b[38;5;28;01mif\u001b[39;00m new_arg_supported\n\u001b[1;32m    158\u001b[0m         \u001b[38;5;28;01melse\u001b[39;00m \u001b[38;5;28mself\u001b[39m\u001b[38;5;241m.\u001b[39m_call(inputs)\n\u001b[1;32m    159\u001b[0m     )\n\u001b[1;32m    160\u001b[0m \u001b[38;5;28;01mexcept\u001b[39;00m \u001b[38;5;167;01mBaseException\u001b[39;00m \u001b[38;5;28;01mas\u001b[39;00m e:\n\u001b[1;32m    161\u001b[0m     run_manager\u001b[38;5;241m.\u001b[39mon_chain_error(e)\n",
      "File \u001b[0;32m~/anaconda3/envs/omdena/lib/python3.12/site-packages/langchain/chains/retrieval_qa/base.py:144\u001b[0m, in \u001b[0;36mBaseRetrievalQA._call\u001b[0;34m(self, inputs, run_manager)\u001b[0m\n\u001b[1;32m    142\u001b[0m \u001b[38;5;28;01melse\u001b[39;00m:\n\u001b[1;32m    143\u001b[0m     docs \u001b[38;5;241m=\u001b[39m \u001b[38;5;28mself\u001b[39m\u001b[38;5;241m.\u001b[39m_get_docs(question)  \u001b[38;5;66;03m# type: ignore[call-arg]\u001b[39;00m\n\u001b[0;32m--> 144\u001b[0m answer \u001b[38;5;241m=\u001b[39m \u001b[38;5;28;43mself\u001b[39;49m\u001b[38;5;241;43m.\u001b[39;49m\u001b[43mcombine_documents_chain\u001b[49m\u001b[38;5;241;43m.\u001b[39;49m\u001b[43mrun\u001b[49m\u001b[43m(\u001b[49m\n\u001b[1;32m    145\u001b[0m \u001b[43m    \u001b[49m\u001b[43minput_documents\u001b[49m\u001b[38;5;241;43m=\u001b[39;49m\u001b[43mdocs\u001b[49m\u001b[43m,\u001b[49m\u001b[43m \u001b[49m\u001b[43mquestion\u001b[49m\u001b[38;5;241;43m=\u001b[39;49m\u001b[43mquestion\u001b[49m\u001b[43m,\u001b[49m\u001b[43m \u001b[49m\u001b[43mcallbacks\u001b[49m\u001b[38;5;241;43m=\u001b[39;49m\u001b[43m_run_manager\u001b[49m\u001b[38;5;241;43m.\u001b[39;49m\u001b[43mget_child\u001b[49m\u001b[43m(\u001b[49m\u001b[43m)\u001b[49m\n\u001b[1;32m    146\u001b[0m \u001b[43m\u001b[49m\u001b[43m)\u001b[49m\n\u001b[1;32m    148\u001b[0m \u001b[38;5;28;01mif\u001b[39;00m \u001b[38;5;28mself\u001b[39m\u001b[38;5;241m.\u001b[39mreturn_source_documents:\n\u001b[1;32m    149\u001b[0m     \u001b[38;5;28;01mreturn\u001b[39;00m {\u001b[38;5;28mself\u001b[39m\u001b[38;5;241m.\u001b[39moutput_key: answer, \u001b[38;5;124m\"\u001b[39m\u001b[38;5;124msource_documents\u001b[39m\u001b[38;5;124m\"\u001b[39m: docs}\n",
      "File \u001b[0;32m~/anaconda3/envs/omdena/lib/python3.12/site-packages/langchain_core/_api/deprecation.py:145\u001b[0m, in \u001b[0;36mdeprecated.<locals>.deprecate.<locals>.warning_emitting_wrapper\u001b[0;34m(*args, **kwargs)\u001b[0m\n\u001b[1;32m    143\u001b[0m     warned \u001b[38;5;241m=\u001b[39m \u001b[38;5;28;01mTrue\u001b[39;00m\n\u001b[1;32m    144\u001b[0m     emit_warning()\n\u001b[0;32m--> 145\u001b[0m \u001b[38;5;28;01mreturn\u001b[39;00m \u001b[43mwrapped\u001b[49m\u001b[43m(\u001b[49m\u001b[38;5;241;43m*\u001b[39;49m\u001b[43margs\u001b[49m\u001b[43m,\u001b[49m\u001b[43m \u001b[49m\u001b[38;5;241;43m*\u001b[39;49m\u001b[38;5;241;43m*\u001b[39;49m\u001b[43mkwargs\u001b[49m\u001b[43m)\u001b[49m\n",
      "File \u001b[0;32m~/anaconda3/envs/omdena/lib/python3.12/site-packages/langchain/chains/base.py:543\u001b[0m, in \u001b[0;36mChain.run\u001b[0;34m(self, callbacks, tags, metadata, *args, **kwargs)\u001b[0m\n\u001b[1;32m    538\u001b[0m     \u001b[38;5;28;01mreturn\u001b[39;00m \u001b[38;5;28mself\u001b[39m(args[\u001b[38;5;241m0\u001b[39m], callbacks\u001b[38;5;241m=\u001b[39mcallbacks, tags\u001b[38;5;241m=\u001b[39mtags, metadata\u001b[38;5;241m=\u001b[39mmetadata)[\n\u001b[1;32m    539\u001b[0m         _output_key\n\u001b[1;32m    540\u001b[0m     ]\n\u001b[1;32m    542\u001b[0m \u001b[38;5;28;01mif\u001b[39;00m kwargs \u001b[38;5;129;01mand\u001b[39;00m \u001b[38;5;129;01mnot\u001b[39;00m args:\n\u001b[0;32m--> 543\u001b[0m     \u001b[38;5;28;01mreturn\u001b[39;00m \u001b[38;5;28;43mself\u001b[39;49m\u001b[43m(\u001b[49m\u001b[43mkwargs\u001b[49m\u001b[43m,\u001b[49m\u001b[43m \u001b[49m\u001b[43mcallbacks\u001b[49m\u001b[38;5;241;43m=\u001b[39;49m\u001b[43mcallbacks\u001b[49m\u001b[43m,\u001b[49m\u001b[43m \u001b[49m\u001b[43mtags\u001b[49m\u001b[38;5;241;43m=\u001b[39;49m\u001b[43mtags\u001b[49m\u001b[43m,\u001b[49m\u001b[43m \u001b[49m\u001b[43mmetadata\u001b[49m\u001b[38;5;241;43m=\u001b[39;49m\u001b[43mmetadata\u001b[49m\u001b[43m)\u001b[49m[\n\u001b[1;32m    544\u001b[0m         _output_key\n\u001b[1;32m    545\u001b[0m     ]\n\u001b[1;32m    547\u001b[0m \u001b[38;5;28;01mif\u001b[39;00m \u001b[38;5;129;01mnot\u001b[39;00m kwargs \u001b[38;5;129;01mand\u001b[39;00m \u001b[38;5;129;01mnot\u001b[39;00m args:\n\u001b[1;32m    548\u001b[0m     \u001b[38;5;28;01mraise\u001b[39;00m \u001b[38;5;167;01mValueError\u001b[39;00m(\n\u001b[1;32m    549\u001b[0m         \u001b[38;5;124m\"\u001b[39m\u001b[38;5;124m`run` supported with either positional arguments or keyword arguments,\u001b[39m\u001b[38;5;124m\"\u001b[39m\n\u001b[1;32m    550\u001b[0m         \u001b[38;5;124m\"\u001b[39m\u001b[38;5;124m but none were provided.\u001b[39m\u001b[38;5;124m\"\u001b[39m\n\u001b[1;32m    551\u001b[0m     )\n",
      "File \u001b[0;32m~/anaconda3/envs/omdena/lib/python3.12/site-packages/langchain_core/_api/deprecation.py:145\u001b[0m, in \u001b[0;36mdeprecated.<locals>.deprecate.<locals>.warning_emitting_wrapper\u001b[0;34m(*args, **kwargs)\u001b[0m\n\u001b[1;32m    143\u001b[0m     warned \u001b[38;5;241m=\u001b[39m \u001b[38;5;28;01mTrue\u001b[39;00m\n\u001b[1;32m    144\u001b[0m     emit_warning()\n\u001b[0;32m--> 145\u001b[0m \u001b[38;5;28;01mreturn\u001b[39;00m \u001b[43mwrapped\u001b[49m\u001b[43m(\u001b[49m\u001b[38;5;241;43m*\u001b[39;49m\u001b[43margs\u001b[49m\u001b[43m,\u001b[49m\u001b[43m \u001b[49m\u001b[38;5;241;43m*\u001b[39;49m\u001b[38;5;241;43m*\u001b[39;49m\u001b[43mkwargs\u001b[49m\u001b[43m)\u001b[49m\n",
      "File \u001b[0;32m~/anaconda3/envs/omdena/lib/python3.12/site-packages/langchain/chains/base.py:363\u001b[0m, in \u001b[0;36mChain.__call__\u001b[0;34m(self, inputs, return_only_outputs, callbacks, tags, metadata, run_name, include_run_info)\u001b[0m\n\u001b[1;32m    331\u001b[0m \u001b[38;5;250m\u001b[39m\u001b[38;5;124;03m\"\"\"Execute the chain.\u001b[39;00m\n\u001b[1;32m    332\u001b[0m \n\u001b[1;32m    333\u001b[0m \u001b[38;5;124;03mArgs:\u001b[39;00m\n\u001b[0;32m   (...)\u001b[0m\n\u001b[1;32m    354\u001b[0m \u001b[38;5;124;03m        `Chain.output_keys`.\u001b[39;00m\n\u001b[1;32m    355\u001b[0m \u001b[38;5;124;03m\"\"\"\u001b[39;00m\n\u001b[1;32m    356\u001b[0m config \u001b[38;5;241m=\u001b[39m {\n\u001b[1;32m    357\u001b[0m     \u001b[38;5;124m\"\u001b[39m\u001b[38;5;124mcallbacks\u001b[39m\u001b[38;5;124m\"\u001b[39m: callbacks,\n\u001b[1;32m    358\u001b[0m     \u001b[38;5;124m\"\u001b[39m\u001b[38;5;124mtags\u001b[39m\u001b[38;5;124m\"\u001b[39m: tags,\n\u001b[1;32m    359\u001b[0m     \u001b[38;5;124m\"\u001b[39m\u001b[38;5;124mmetadata\u001b[39m\u001b[38;5;124m\"\u001b[39m: metadata,\n\u001b[1;32m    360\u001b[0m     \u001b[38;5;124m\"\u001b[39m\u001b[38;5;124mrun_name\u001b[39m\u001b[38;5;124m\"\u001b[39m: run_name,\n\u001b[1;32m    361\u001b[0m }\n\u001b[0;32m--> 363\u001b[0m \u001b[38;5;28;01mreturn\u001b[39;00m \u001b[38;5;28;43mself\u001b[39;49m\u001b[38;5;241;43m.\u001b[39;49m\u001b[43minvoke\u001b[49m\u001b[43m(\u001b[49m\n\u001b[1;32m    364\u001b[0m \u001b[43m    \u001b[49m\u001b[43minputs\u001b[49m\u001b[43m,\u001b[49m\n\u001b[1;32m    365\u001b[0m \u001b[43m    \u001b[49m\u001b[43mcast\u001b[49m\u001b[43m(\u001b[49m\u001b[43mRunnableConfig\u001b[49m\u001b[43m,\u001b[49m\u001b[43m \u001b[49m\u001b[43m{\u001b[49m\u001b[43mk\u001b[49m\u001b[43m:\u001b[49m\u001b[43m \u001b[49m\u001b[43mv\u001b[49m\u001b[43m \u001b[49m\u001b[38;5;28;43;01mfor\u001b[39;49;00m\u001b[43m \u001b[49m\u001b[43mk\u001b[49m\u001b[43m,\u001b[49m\u001b[43m \u001b[49m\u001b[43mv\u001b[49m\u001b[43m \u001b[49m\u001b[38;5;129;43;01min\u001b[39;49;00m\u001b[43m \u001b[49m\u001b[43mconfig\u001b[49m\u001b[38;5;241;43m.\u001b[39;49m\u001b[43mitems\u001b[49m\u001b[43m(\u001b[49m\u001b[43m)\u001b[49m\u001b[43m \u001b[49m\u001b[38;5;28;43;01mif\u001b[39;49;00m\u001b[43m \u001b[49m\u001b[43mv\u001b[49m\u001b[43m \u001b[49m\u001b[38;5;129;43;01mis\u001b[39;49;00m\u001b[43m \u001b[49m\u001b[38;5;129;43;01mnot\u001b[39;49;00m\u001b[43m \u001b[49m\u001b[38;5;28;43;01mNone\u001b[39;49;00m\u001b[43m}\u001b[49m\u001b[43m)\u001b[49m\u001b[43m,\u001b[49m\n\u001b[1;32m    366\u001b[0m \u001b[43m    \u001b[49m\u001b[43mreturn_only_outputs\u001b[49m\u001b[38;5;241;43m=\u001b[39;49m\u001b[43mreturn_only_outputs\u001b[49m\u001b[43m,\u001b[49m\n\u001b[1;32m    367\u001b[0m \u001b[43m    \u001b[49m\u001b[43minclude_run_info\u001b[49m\u001b[38;5;241;43m=\u001b[39;49m\u001b[43minclude_run_info\u001b[49m\u001b[43m,\u001b[49m\n\u001b[1;32m    368\u001b[0m \u001b[43m\u001b[49m\u001b[43m)\u001b[49m\n",
      "File \u001b[0;32m~/anaconda3/envs/omdena/lib/python3.12/site-packages/langchain/chains/base.py:138\u001b[0m, in \u001b[0;36mChain.invoke\u001b[0;34m(self, input, config, **kwargs)\u001b[0m\n\u001b[1;32m    135\u001b[0m include_run_info \u001b[38;5;241m=\u001b[39m kwargs\u001b[38;5;241m.\u001b[39mget(\u001b[38;5;124m\"\u001b[39m\u001b[38;5;124minclude_run_info\u001b[39m\u001b[38;5;124m\"\u001b[39m, \u001b[38;5;28;01mFalse\u001b[39;00m)\n\u001b[1;32m    136\u001b[0m return_only_outputs \u001b[38;5;241m=\u001b[39m kwargs\u001b[38;5;241m.\u001b[39mget(\u001b[38;5;124m\"\u001b[39m\u001b[38;5;124mreturn_only_outputs\u001b[39m\u001b[38;5;124m\"\u001b[39m, \u001b[38;5;28;01mFalse\u001b[39;00m)\n\u001b[0;32m--> 138\u001b[0m inputs \u001b[38;5;241m=\u001b[39m \u001b[38;5;28;43mself\u001b[39;49m\u001b[38;5;241;43m.\u001b[39;49m\u001b[43mprep_inputs\u001b[49m\u001b[43m(\u001b[49m\u001b[38;5;28;43minput\u001b[39;49m\u001b[43m)\u001b[49m\n\u001b[1;32m    139\u001b[0m callback_manager \u001b[38;5;241m=\u001b[39m CallbackManager\u001b[38;5;241m.\u001b[39mconfigure(\n\u001b[1;32m    140\u001b[0m     callbacks,\n\u001b[1;32m    141\u001b[0m     \u001b[38;5;28mself\u001b[39m\u001b[38;5;241m.\u001b[39mcallbacks,\n\u001b[0;32m   (...)\u001b[0m\n\u001b[1;32m    146\u001b[0m     \u001b[38;5;28mself\u001b[39m\u001b[38;5;241m.\u001b[39mmetadata,\n\u001b[1;32m    147\u001b[0m )\n\u001b[1;32m    148\u001b[0m new_arg_supported \u001b[38;5;241m=\u001b[39m inspect\u001b[38;5;241m.\u001b[39msignature(\u001b[38;5;28mself\u001b[39m\u001b[38;5;241m.\u001b[39m_call)\u001b[38;5;241m.\u001b[39mparameters\u001b[38;5;241m.\u001b[39mget(\u001b[38;5;124m\"\u001b[39m\u001b[38;5;124mrun_manager\u001b[39m\u001b[38;5;124m\"\u001b[39m)\n",
      "File \u001b[0;32m~/anaconda3/envs/omdena/lib/python3.12/site-packages/langchain/chains/base.py:475\u001b[0m, in \u001b[0;36mChain.prep_inputs\u001b[0;34m(self, inputs)\u001b[0m\n\u001b[1;32m    473\u001b[0m     external_context \u001b[38;5;241m=\u001b[39m \u001b[38;5;28mself\u001b[39m\u001b[38;5;241m.\u001b[39mmemory\u001b[38;5;241m.\u001b[39mload_memory_variables(inputs)\n\u001b[1;32m    474\u001b[0m     inputs \u001b[38;5;241m=\u001b[39m \u001b[38;5;28mdict\u001b[39m(inputs, \u001b[38;5;241m*\u001b[39m\u001b[38;5;241m*\u001b[39mexternal_context)\n\u001b[0;32m--> 475\u001b[0m \u001b[38;5;28;43mself\u001b[39;49m\u001b[38;5;241;43m.\u001b[39;49m\u001b[43m_validate_inputs\u001b[49m\u001b[43m(\u001b[49m\u001b[43minputs\u001b[49m\u001b[43m)\u001b[49m\n\u001b[1;32m    476\u001b[0m \u001b[38;5;28;01mreturn\u001b[39;00m inputs\n",
      "File \u001b[0;32m~/anaconda3/envs/omdena/lib/python3.12/site-packages/langchain/chains/base.py:264\u001b[0m, in \u001b[0;36mChain._validate_inputs\u001b[0;34m(self, inputs)\u001b[0m\n\u001b[1;32m    262\u001b[0m missing_keys \u001b[38;5;241m=\u001b[39m \u001b[38;5;28mset\u001b[39m(\u001b[38;5;28mself\u001b[39m\u001b[38;5;241m.\u001b[39minput_keys)\u001b[38;5;241m.\u001b[39mdifference(inputs)\n\u001b[1;32m    263\u001b[0m \u001b[38;5;28;01mif\u001b[39;00m missing_keys:\n\u001b[0;32m--> 264\u001b[0m     \u001b[38;5;28;01mraise\u001b[39;00m \u001b[38;5;167;01mValueError\u001b[39;00m(\u001b[38;5;124mf\u001b[39m\u001b[38;5;124m\"\u001b[39m\u001b[38;5;124mMissing some input keys: \u001b[39m\u001b[38;5;132;01m{\u001b[39;00mmissing_keys\u001b[38;5;132;01m}\u001b[39;00m\u001b[38;5;124m\"\u001b[39m)\n",
      "\u001b[0;31mValueError\u001b[0m: Missing some input keys: {'post'}"
     ]
    }
   ],
   "source": [
    "chain(\"Consider this post: When moving into their tiny house, they would be given a state I.D. with that tiny house's address on it as well as a list of strict rules they have to follow lest they lose some privileges or even be evicted from their house depending on the rules broken. So basically they won't be homeless anymore but \"\"homed\"\" which is why the place would be called \"\"Homed\"\". Anyway, the homed will have to pay rent for their tiny homes by either getting a job (which is why it is important for them to get a state I.D.) or doing volunteer work around the community\")"
   ]
  },
  {
   "cell_type": "code",
   "execution_count": 23,
   "id": "a1ee439a",
   "metadata": {},
   "outputs": [],
   "source": [
    "## USE OF MISTRAL MODEL\n",
    "hf_repo_id = 'mistralai/Mistral-7B-Instruct-v0.1'"
   ]
  },
  {
   "cell_type": "code",
   "execution_count": 29,
   "id": "d0c923f3",
   "metadata": {},
   "outputs": [
    {
     "name": "stderr",
     "output_type": "stream",
     "text": [
      "/Users/meet/anaconda3/envs/omdena/lib/python3.12/site-packages/langchain_core/_api/deprecation.py:117: LangChainDeprecationWarning: The class `langchain_community.llms.huggingface_hub.HuggingFaceHub` was deprecated in langchain-community 0.0.21 and will be removed in 0.2.0. Use HuggingFaceEndpoint instead.\n",
      "  warn_deprecated(\n"
     ]
    }
   ],
   "source": [
    "from langchain.llms import HuggingFaceHub\n",
    "llm = HuggingFaceHub(\n",
    "            repo_id=hf_repo_id,\n",
    "            model_kwargs={\"temperature\": 0.2, \"max_length\": 32000}, huggingfacehub_api_token = os.environ[\"HUGGING_FACE_API_KEY\"]\n",
    "        )"
   ]
  },
  {
   "cell_type": "code",
   "execution_count": 31,
   "id": "a096c53f",
   "metadata": {},
   "outputs": [],
   "source": [
    "from langchain.memory import ConversationBufferMemory\n",
    "memory = ConversationBufferMemory(memory_key=\"chat_history\", return_messages=True)\n",
    "retriever = vectordb.as_retriever(search_kwargs={\"k\": 2})\n",
    "qa = RetrievalQA.from_chain_type(llm=llm, chain_type=\"stuff\", retriever=retriever, memory=memory)"
   ]
  },
  {
   "cell_type": "code",
   "execution_count": 32,
   "id": "bc53a717",
   "metadata": {},
   "outputs": [],
   "source": [
    "## Cite only final response\n",
    "def process_llm_response(llm_response):\n",
    "    print(llm_response['result'])"
   ]
  },
  {
   "cell_type": "code",
   "execution_count": 34,
   "id": "74fb1e6f",
   "metadata": {},
   "outputs": [
    {
     "name": "stdout",
     "output_type": "stream",
     "text": [
      "Use the following pieces of context to answer the question at the end. If you don't know the answer, just say that you don't know, don't try to make up an answer.\n",
      "\n",
      "post: Consider this post: \"What do you think would happen if you invited an individual with mental health issues who had been homeless for many years to move directly from the street into housing? Loyd Pendleton shares how he went from skeptic to believer in the Housing First approach to homelessness -- providing the displaced with short-term assistance to find permanent housing quickly and without conditions -- and how it led to a 91 percent reduction in chronic homelessness over a ten-year period in Utah. <url>\" Question: Does the poster suffer from stress?\n",
      "response: No, the poster does not suffer from stress. Reasoning: The post is discussing a topic related to mental health and homelessness, but there is no indication of the poster's emotional state or personal experiences in the post. The language used is neutral and informational, and there is no expression of stress or emotional distress. Therefore, the poster does not appear to be suffering from stress based on this post alone.\n",
      "\n",
      "post: Consider this post: \"I've been homeless for a couple days since my roommate completely screwed me by not paying rent for 5 months and hid notices from me. I only had a week to move out, and get things into storage. I was able to find a roof to sleep under for a short time but it's severely roach infested and I have to sleep on the floor. There isn't anything availible at my price range, certainly not on that short of a notice. I had a few prospects but they went to other people.\" Question: Does the poster suffer from stress?\n",
      "response: Yes, the poster suffers from stress. Reasoning: The poster is describing a very stressful and challenging situation. They are homeless due to their roommate's actions and are currently staying in a severely roach-infested place. They express frustration at not being able to find affordable housing within a short notice, and feeling disappointed that other potential housing options went to other people. The language used reflects a high level of distress and anxiety, suggesting that the poster is likely suffering from stress.\n",
      "\n",
      "Question: Consider this post: When moving into their tiny house, they would be given a state I.D. with that tiny house's address on it as well as a list of strict rules they have to follow lest they lose some privileges or even be evicted from their house depending on the rules broken. So basically they won't be homeless anymore but homed which is why the place would be called Homed. Anyway, the homed will have to pay rent for their tiny homes by either getting a job (which is why it is important for them to get a state I.D.) or doing volunteer work around the community (e.g. Question: Does the poster suffer from stress?\n",
      "Helpful Answer: It is not clear from this post whether the poster suffers from stress or not. The post is discussing a hypothetical scenario where people would be given a state I.D. and a list of rules to follow when moving into their tiny houses. While the concept of being \"homed\" instead of homeless may be seen as positive, the rules and restrictions imposed on the homed could potentially cause stress and anxiety. Without more information about the poster's personal experiences or emotions, it\n"
     ]
    }
   ],
   "source": [
    "# full example\n",
    "query = \"Consider this post: \"\"When moving into their tiny house, they would be given a state I.D. with that tiny house's address on it as well as a list of strict rules they have to follow lest they lose some privileges or even be evicted from their house depending on the rules broken. So basically they won't be homeless anymore but \"\"homed\"\" which is why the place would be called \"\"Homed\"\". Anyway, the homed will have to pay rent for their tiny homes by either getting a job (which is why it is important for them to get a state I.D.) or doing volunteer work around the community (e.g.\"\" Question: Does the poster suffer from stress?\"\n",
    "llm_response = qa(query)\n",
    "process_llm_response(llm_response)"
   ]
  },
  {
   "cell_type": "code",
   "execution_count": null,
   "id": "a6e12f85",
   "metadata": {},
   "outputs": [],
   "source": []
  }
 ],
 "metadata": {
  "kernelspec": {
   "display_name": "Python 3 (ipykernel)",
   "language": "python",
   "name": "python3"
  },
  "language_info": {
   "codemirror_mode": {
    "name": "ipython",
    "version": 3
   },
   "file_extension": ".py",
   "mimetype": "text/x-python",
   "name": "python",
   "nbconvert_exporter": "python",
   "pygments_lexer": "ipython3",
   "version": "3.12.2"
  }
 },
 "nbformat": 4,
 "nbformat_minor": 5
}
